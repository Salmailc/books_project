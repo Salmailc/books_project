{
 "cells": [
  {
   "cell_type": "markdown",
   "id": "7665a2e0-a01d-4667-b110-23bbab2d4c76",
   "metadata": {
    "tags": []
   },
   "source": [
    "# Exploración y análisis de datos sobre libros.\n"
   ]
  },
  {
   "cell_type": "markdown",
   "id": "25bd785a-6a85-4283-b0db-1907be2e7b7d",
   "metadata": {
    "tags": []
   },
   "source": [
    "## Descripción del proyecto\n",
    "Los libros son una manera de pasar un buen rato por lo que cuando alguien le gusta un libro suele recomendarlo o posicionarlo dentro de sus favoritos, pero ocurre algo similar cuando un libro no nos gusta, decidimos darle una mala calificación o no recomendarlo y todos estos datos son utilizados para conocer qué libros les pueden interesar a otras personas.\n",
    "\n",
    "El presente proyecto se encargará de analizar a partir de una serie de datos, cual es la relación de los libros más leídos y los libros con mejor puntuación, y comprobar si la audiencia prefieren los libros con mayor cantidad de páginas."
   ]
  },
  {
   "cell_type": "markdown",
   "id": "33290000-287c-414e-acfc-06e670b1619c",
   "metadata": {
    "tags": []
   },
   "source": [
    "## Fuente\n",
    "El Dataset se obtuvo de Kaggle:\n",
    "https://www.kaggle.com/datasets/dylanjcastillo/7k-books-with-metadata\n",
    "\n",
    "También puedes encontrar el código en github: https://github.com/Salmailc/books_project.git\n"
   ]
  },
  {
   "cell_type": "markdown",
   "id": "d992953f-85e8-4f5c-9a88-532b4a1e729a",
   "metadata": {
    "tags": []
   },
   "source": [
    "## Propuesta\n",
    "El desarrollo que se propone para este proyecto es, comenzar por la limpieza de los datos, analizar las variables, como es su correlación y el comportamiento que tienen, para posteriormente mostrar los resultados de lo analizado mediante gráficas."
   ]
  },
  {
   "cell_type": "markdown",
   "id": "b7e33529-9d86-40be-b6bc-c4aca99678ac",
   "metadata": {},
   "source": [
    "## Descripción de los datos\n",
    "\n",
    "El Dataset está conformado por 6810 filas y 12 columnas (variables), las cuales se muestran a continuación:\n",
    "\n",
    "| Variable     | Definición                                                              |\n",
    "|--------------|-------------------------------------------------------------------------|\n",
    "| *isbn13*     | Número internacional normalizado del libro, es un número de 13 cifras   |\n",
    "| *isbn10*     | Número internacional normalizado del libro, es un número de 10 cifras   |\n",
    "| *title*      | Título del libro                                                        |\n",
    "| *subtitle*   | Subtítulo de los libro                                                  |\n",
    "| *authors*    | Autores del libro                                                       |\n",
    "| *categories* | Categorías de libros                                                    |\n",
    "| *thumbnail*  | Enlace a una foto miniatura de la portada del libro                     |\n",
    "| *description*| Descripción del libro                                                   |\n",
    "| *published_year*| Año en que fue publicado el libro                                    |\n",
    "| *average_rating*| Es una medida de lo que una determinada población califica           |\n",
    "| *num_pages*  | El número de páginas que tiene un libro                                 |\n",
    "| *ratings_count*| Es el recuento del número total de calificaciones                     |"
   ]
  },
  {
   "cell_type": "markdown",
   "id": "24c77d48-97a5-4ae4-a979-41d2175d3754",
   "metadata": {
    "tags": []
   },
   "source": [
    "## Las herramientas que se ocuparan\n",
    "A continuación se muestran los programas que ocuparemos y la manera en como los importamos a nuestro notebook para trabajar."
   ]
  },
  {
   "cell_type": "code",
   "execution_count": null,
   "id": "eea76b25-411e-4ee9-87c9-ec36024139b3",
   "metadata": {},
   "outputs": [],
   "source": [
    "import numpy as np\n",
    "import pandas as pd \n",
    "import seaborn as sns\n",
    "import matplotlib.pyplot as plt\n",
    "import altair as alt                \n",
    "from sklearn.model_selection import train_test_split\n"
   ]
  },
  {
   "cell_type": "markdown",
   "id": "62ffaa03-a48b-4d50-9d40-7248629f6e80",
   "metadata": {},
   "source": [
    "## EDA"
   ]
  },
  {
   "cell_type": "markdown",
   "id": "e14a74c2-a263-4b27-8a99-dcb9d14b11d0",
   "metadata": {},
   "source": [
    "Cargamos los datos de un documento en formato csv y que se encuentran previamente descargados en la pc, para esto ocuparemos pandas, *pd.read_csv()* \n",
    "\n",
    "*Nota: Para poder cargar los datos es necesario que el ambiente de trabajo esté posicionado en la carpeta que contiene nuestro documento csv.\n"
   ]
  },
  {
   "cell_type": "code",
   "execution_count": null,
   "id": "833b55a2-de7d-4233-a305-da1bc5123863",
   "metadata": {
    "tags": []
   },
   "outputs": [],
   "source": [
    "books = pd.read_csv('books.csv')\n",
    "books"
   ]
  },
  {
   "cell_type": "markdown",
   "id": "8ab32493-7f0f-43f0-b5b2-bd5bc5989838",
   "metadata": {},
   "source": [
    "Para saber la cantidad de filas y columnas que tiene nuestro Dataset ocupamos *.shape*"
   ]
  },
  {
   "cell_type": "code",
   "execution_count": null,
   "id": "573a4ae5-dbc9-4006-b2d9-204cdf11afcf",
   "metadata": {},
   "outputs": [],
   "source": [
    "books.shape"
   ]
  },
  {
   "cell_type": "markdown",
   "id": "ee17ae8d-298a-4126-ab07-73b14f34c1af",
   "metadata": {},
   "source": [
    "Utilizamos *.columns* para conocer con qué columnas cuenta nuestro Dataset."
   ]
  },
  {
   "cell_type": "code",
   "execution_count": null,
   "id": "678b4b0a-eaf4-40eb-9491-9d0d32b161d3",
   "metadata": {
    "tags": []
   },
   "outputs": [],
   "source": [
    "books.columns"
   ]
  },
  {
   "cell_type": "markdown",
   "id": "36b3beb0-1360-4b1d-b558-f1a27e9a9743",
   "metadata": {},
   "source": [
    "Conoceremos la información del Dataset como lo son: el nombre de las columnas, si hay datos nulos, el tipo de variable (int, float, obj, etc.) por medio de *.info()*"
   ]
  },
  {
   "cell_type": "code",
   "execution_count": null,
   "id": "f7e14394-81c6-43f6-b126-779547884148",
   "metadata": {
    "tags": []
   },
   "outputs": [],
   "source": [
    "books.info()"
   ]
  },
  {
   "cell_type": "markdown",
   "id": "c0645274-0a5d-4556-a945-b7c3ae9a69e5",
   "metadata": {},
   "source": [
    "Para conocer los datos estadísticos del Dataset ocupamos *.describe()* podremos observar la media, la desviación estándar, el valor mínimo, el valor máximo, el percentil 25, 50 y 75 de cada variable numérica."
   ]
  },
  {
   "cell_type": "code",
   "execution_count": null,
   "id": "916e5765-ee27-4273-b151-1da2f289ceaf",
   "metadata": {
    "tags": []
   },
   "outputs": [],
   "source": [
    "books.describe()"
   ]
  },
  {
   "cell_type": "markdown",
   "id": "4aca91d9-c5b5-4473-a427-668cf560fdb4",
   "metadata": {},
   "source": [
    "En este caso se decidió cambiar los nombres de las columnas."
   ]
  },
  {
   "cell_type": "code",
   "execution_count": null,
   "id": "f73ec067-3c54-4c41-ad51-a13e2e3fa0d8",
   "metadata": {},
   "outputs": [],
   "source": [
    "books.columns = ['ISBN_13', 'ISBN_10', 'Title', 'Subtitle', 'Authors', 'Categories', 'Thumbnail', 'Description', 'Published year', 'Average rating', 'Pages', 'Ratings count']"
   ]
  },
  {
   "cell_type": "markdown",
   "id": "d0719aeb-e4c1-488d-b5bb-5babdc67a5e3",
   "metadata": {},
   "source": [
    "Se observó con anterioridad que teníamos algunos datos nulos (NaN), por lo que reemplazamos estos datos con el valor de la media en caso de los datos enteros, utilizando *.fillna()*"
   ]
  },
  {
   "cell_type": "code",
   "execution_count": null,
   "id": "59479e92-182b-4979-b010-39c779a45a76",
   "metadata": {},
   "outputs": [],
   "source": [
    "books=books.fillna(books.mean())"
   ]
  },
  {
   "cell_type": "markdown",
   "id": "54076c06-64c4-43f2-91b3-340716a09308",
   "metadata": {},
   "source": [
    "Para los datos que son nulos pero son de tipo objeto, se cambiaron por 0 ocupando *.fillna()* \n",
    "\n",
    "También se cambiaron el tipo de variable en 'Published year', 'Pages', 'Ratings count', ya que eran de tipo flotante y se cambiaron a entero, mediante *.astype()*"
   ]
  },
  {
   "cell_type": "code",
   "execution_count": null,
   "id": "e86bba91-751f-452c-ac24-43980ad38993",
   "metadata": {
    "tags": []
   },
   "outputs": [],
   "source": [
    "books = books.fillna(0)\n",
    "books[['Published year', 'Pages', 'Ratings count']] = books[['Published year', 'Pages', 'Ratings count']].astype(int)\n",
    "\n",
    "books"
   ]
  },
  {
   "cell_type": "code",
   "execution_count": null,
   "id": "cd752b0b-0d57-42e2-a1e4-9565be4c2e3b",
   "metadata": {
    "tags": []
   },
   "outputs": [],
   "source": [
    "books.info()"
   ]
  },
  {
   "cell_type": "code",
   "execution_count": null,
   "id": "d24a14e2-479c-4ceb-b030-94a1192cb0a6",
   "metadata": {},
   "outputs": [],
   "source": [
    "books.describe()"
   ]
  },
  {
   "cell_type": "markdown",
   "id": "63699124-7c5e-40ce-bb5c-6fef1473d562",
   "metadata": {},
   "source": [
    "De *pandas_profiling* importamos *ProfileReport* es una herramienta que crea un formato html en donde se puede visualizar las variables y tablas de correlación."
   ]
  },
  {
   "cell_type": "code",
   "execution_count": null,
   "id": "a2034fb9-7c7b-482a-8766-c743f8f40001",
   "metadata": {},
   "outputs": [],
   "source": [
    "from pandas_profiling import ProfileReport"
   ]
  },
  {
   "cell_type": "code",
   "execution_count": null,
   "id": "0cdc5223-3bd6-4aae-bbd4-e3759594bec3",
   "metadata": {
    "tags": []
   },
   "outputs": [],
   "source": [
    "profile = ProfileReport(books, title=\"Books dataset analysis\", explorative=True)\n",
    "profile.to_file(\"books-report.html\")"
   ]
  },
  {
   "cell_type": "markdown",
   "id": "830abb4c-d786-4338-8f47-3c929c07beed",
   "metadata": {},
   "source": [
    "Otra manera de visualizar una tabla de correlación es utilizando seaborn *sns.pairplot()* en donde podemos colocar las variables que se quieren visualizar. Ya que se quiere saber si hay alguna influencia por parte de la cantidad de páginas, lo ocuparemos como la tonalidad."
   ]
  },
  {
   "cell_type": "code",
   "execution_count": null,
   "id": "50b4343e-6c08-4578-84e7-cea577a378ac",
   "metadata": {
    "tags": []
   },
   "outputs": [],
   "source": [
    "%matplotlib inline\n",
    "\n",
    "sns.pairplot(\n",
    "    data=books, \n",
    "    hue='Pages', \n",
    "    x_vars=['Published year', 'Average rating', 'Pages', 'Ratings count'],\n",
    "    y_vars=['Published year', 'Average rating', 'Pages', 'Ratings count']\n",
    ")"
   ]
  },
  {
   "cell_type": "markdown",
   "id": "e8150a26-e0f3-4b10-b6d2-64f2d45308b3",
   "metadata": {},
   "source": [
    "Separamos el Dataset en dos, uno para entrenamiento (train)  y otro para prueba (test), utilizando *train_test_split*, en este decidí que la parte de prueba sea el 30% del total de datos."
   ]
  },
  {
   "cell_type": "code",
   "execution_count": null,
   "id": "d42a4006-c429-4113-a994-01ecf93ccf07",
   "metadata": {
    "tags": []
   },
   "outputs": [],
   "source": [
    "books_train, books_test = train_test_split(books, test_size=0.3)"
   ]
  },
  {
   "cell_type": "markdown",
   "id": "b460e9d8-856c-4e95-81ce-cb344bac1db6",
   "metadata": {},
   "source": [
    "## Visualización\n",
    "Utilizamos altair para crear una gráfica interactiva que nos pueda mostrar la relación que tiene la calificación que se le da a un libro (eje Y y escala de color ), el número de páginas del libro (eje X) y el total de votantes de cada libro (tamaño de las esferas en la gráfica). Esto con la finalidad de comprender de manera visual si se tiene alguna interacción entre estas variables.\n",
    "\n",
    "Al momento de posicionar el mouse en alguna de las esferas se mostrará una ventana con el título, el autor, la categoría y el año de publicación del libro, para que sea de conocimiento a cual libro pertenece dicha esfera.\n",
    "\n",
    "*Nota: en el caso de la visualización ocuparemos los datos de prueba."
   ]
  },
  {
   "cell_type": "code",
   "execution_count": null,
   "id": "b7c74dee-8f71-4172-a80e-179c07f70554",
   "metadata": {},
   "outputs": [],
   "source": [
    "alt.Chart(books_test).mark_circle().encode(\n",
    "    x=alt.X('Pages', title='Páginas'),\n",
    "    y=alt.Y('Average rating', title='Calificación'),\n",
    "    color=alt.Color('Average rating', scale={\"range\":[\"Yellow\", \"Red\"]}, title='Calificación'),\n",
    "    tooltip= [\"Title\", \"Authors:N\", \"Categories:N\", \"Published year\"],\n",
    "    size=alt.Size('Ratings count', title='Total de votantes',),\n",
    ").interactive().properties(\n",
    "    title=\"Relación entre libros más leidos y libros favoritos\",\n",
    ")"
   ]
  },
  {
   "cell_type": "markdown",
   "id": "7f7c2809-5125-4807-809a-22f8a268b47a",
   "metadata": {},
   "source": [
    "Utilizaremos otra gráfica de barras de altair para visualizar en qué años se leyeron los libros (eje X) y su cantidad de votantes (eje Y), ocupando la opacidad para diferenciar en las barras a los libros ya que muchos libros pertenecen al mismo año de publicación. Al igual que en la gráfica anterior al momento de posicionarse en una barra saldrá una ventana con el título, el autor, la categoría y la calificación que se les otorgó.  "
   ]
  },
  {
   "cell_type": "code",
   "execution_count": null,
   "id": "f5d55288-49ba-4cdc-babb-0bb7d223fd16",
   "metadata": {},
   "outputs": [],
   "source": [
    "alt.Chart(books_test).mark_bar(color='#46b4af', opacity=0.45).encode(\n",
    "    x=alt.X('Published year:O', title='Año de publicación'),\n",
    "    y=alt.Y('Ratings count', title='Total de votantes'),\n",
    "    tooltip= [\"Title\", \"Authors:N\", \"Categories:N\", \"Average rating\"]\n",
    ").properties(width=1080, title=\"Años y libros más leidos\",)"
   ]
  },
  {
   "cell_type": "markdown",
   "id": "c4491134-4eca-4ee3-81e8-a283a9d625e4",
   "metadata": {},
   "source": [
    "## Modelado\n",
    "Previamente ya habíamos dividido el Dataset en dos partes, un 70% para entrenamiento y un 30% para prueba.\n",
    "\n",
    "Ahora observaremos la información de ambas partes con *.info()*, así como la información estadística con *.describe()*"
   ]
  },
  {
   "cell_type": "code",
   "execution_count": null,
   "id": "dddaacc6-89a7-4917-bdbb-33e1e5b6fe37",
   "metadata": {},
   "outputs": [],
   "source": [
    "books_train.info()\n",
    "books_test.info()"
   ]
  },
  {
   "cell_type": "code",
   "execution_count": null,
   "id": "d801a1af-ca19-4ec4-9065-79c9f0b37a28",
   "metadata": {
    "tags": []
   },
   "outputs": [],
   "source": [
    "books_train.describe(include=['O'])"
   ]
  },
  {
   "cell_type": "markdown",
   "id": "dfafb8b7-de0e-467f-9fc3-e68ff5a515ad",
   "metadata": {},
   "source": [
    "## Conclusiones\n",
    "Se pudo analizar los datos con diferentes gráficas y se observó la relación que existe entre los libros más leídos y los libros con mejor puntuación, ya que los libros con mayor audiencia no siempre fueron los que tenían una mejor puntuación, por lo que podríamos concluir que aunque la gente elija leer libros no siempre terminan siendo de su agrado y en cambio hay libros muy buenos pero no son tan populares entre los lectores.\n",
    "\n",
    "Por otra parte se pudo descubrir que la audiencia prefiere los libros con menor cantidad de páginas en comparación con otros libros con mayor número de páginas.\n",
    "\n",
    "En la gráfica de barras titulada *“Años y libros más leídos”*, se noto que los libros con mayor cantidad de lectores comenzaron a partir del año 1996 al 2019, pero debemos considerar que el año máximo de nuestro Dataset es 2019.\n",
    "\n",
    "*Nota:\n",
    "Los planes que se tienen para el Dataset en un futuro es crear un modelo que ayude a recomendar libros, dependiendo de las preferencias literarias del usuario, es una opción para cuando no sabes qué otro libro puedes leer, o con qué libro empezar un buen pasatiempo o hábito.\n"
   ]
  }
 ],
 "metadata": {
  "kernelspec": {
   "display_name": "Python 3 (ipykernel)",
   "language": "python",
   "name": "python3"
  },
  "language_info": {
   "codemirror_mode": {
    "name": "ipython",
    "version": 3
   },
   "file_extension": ".py",
   "mimetype": "text/x-python",
   "name": "python",
   "nbconvert_exporter": "python",
   "pygments_lexer": "ipython3",
   "version": "3.10.8"
  }
 },
 "nbformat": 4,
 "nbformat_minor": 5
}
